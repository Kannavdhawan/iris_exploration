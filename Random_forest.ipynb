{
 "cells": [
  {
   "cell_type": "markdown",
   "metadata": {},
   "source": [
    "<h1>RANDOM FOREST</h1>"
   ]
  },
  {
   "cell_type": "code",
   "execution_count": 1,
   "metadata": {},
   "outputs": [],
   "source": [
    "#IMPORTING REQUIRED LIBRARIES\n",
    "import numpy as np_q4\n",
    "import pandas as pd\n",
    "import matplotlib as plotclf\n",
    "from sklearn import datasets\n",
    "from sklearn.model_selection import train_test_split\n",
    "from sklearn.model_selection import cross_val_score\n",
    "import seaborn as sbs\n",
    "from sklearn.ensemble import RandomForestClassifier"
   ]
  },
  {
   "cell_type": "code",
   "execution_count": 2,
   "metadata": {},
   "outputs": [],
   "source": [
    "#CONVERTING DATASET INTO DATAFRAME FOR HEATMAP.\n",
    "iris_dataset= datasets.load_iris()\n",
    "data_df= pd.DataFrame(np_q4.column_stack((iris_dataset.data, iris_dataset.target)), columns = iris_dataset.feature_names+['target'])\n",
    "X_data=data_df[[\"sepal length (cm)\", \"sepal width (cm)\", \"petal length (cm)\",\"petal width (cm)\"]]\n",
    "y_target=data_df[['target']]\n",
    "#can also be done by concat or by using zip function."
   ]
  },
  {
   "cell_type": "code",
   "execution_count": 3,
   "metadata": {},
   "outputs": [],
   "source": [
    "# DIVIDING THE DATASET INTO TRAIN TEST DATA.\n",
    "X_train_data, X_test_data, y_train_target, y_test_target = train_test_split(X_data,y_target,train_size=0.8, random_state=42)\n"
   ]
  },
  {
   "cell_type": "markdown",
   "metadata": {},
   "source": [
    "<h3> Displaying mean accuracies at different values of max_depth and number_of_trees</h3>"
   ]
  },
  {
   "cell_type": "code",
   "execution_count": 4,
   "metadata": {},
   "outputs": [
    {
     "name": "stdout",
     "output_type": "stream",
     "text": [
      "Mean Accuracy:  0.9416666666666667 at depth=  3 and when no of trees=  5\n",
      "Mean Accuracy:  0.9416666666666667 at depth=  5 and when no of trees=  5\n",
      "Mean Accuracy:  0.9416666666666667 at depth=  10 and when no of trees=  5\n",
      "Mean Accuracy:  0.9416666666666667 at depth=  None and when no of trees=  5\n",
      "Mean Accuracy:  0.9416666666666667 at depth=  3 and when no of trees=  10\n",
      "Mean Accuracy:  0.9249999999999998 at depth=  5 and when no of trees=  10\n",
      "Mean Accuracy:  0.9166666666666666 at depth=  10 and when no of trees=  10\n",
      "Mean Accuracy:  0.9166666666666666 at depth=  None and when no of trees=  10\n",
      "Mean Accuracy:  0.9499999999999998 at depth=  3 and when no of trees=  50\n",
      "Mean Accuracy:  0.9333333333333332 at depth=  5 and when no of trees=  50\n",
      "Mean Accuracy:  0.9333333333333332 at depth=  10 and when no of trees=  50\n",
      "Mean Accuracy:  0.9333333333333332 at depth=  None and when no of trees=  50\n",
      "Mean Accuracy:  0.9416666666666667 at depth=  3 and when no of trees=  150\n",
      "Mean Accuracy:  0.9249999999999998 at depth=  5 and when no of trees=  150\n",
      "Mean Accuracy:  0.9249999999999998 at depth=  10 and when no of trees=  150\n",
      "Mean Accuracy:  0.9249999999999998 at depth=  None and when no of trees=  150\n",
      "Mean Accuracy:  0.9416666666666667 at depth=  3 and when no of trees=  200\n",
      "Mean Accuracy:  0.9333333333333332 at depth=  5 and when no of trees=  200\n",
      "Mean Accuracy:  0.9333333333333332 at depth=  10 and when no of trees=  200\n",
      "Mean Accuracy:  0.9333333333333332 at depth=  None and when no of trees=  200\n"
     ]
    }
   ],
   "source": [
    "#MEAN ACCURACY AT DIFFERENT DEPTHS AND NO OF TREES\n",
    "number_of_trees=[5, 10, 50, 150, 200]\n",
    "max_depth=[3,5,10,None]\n",
    "mean_accuracy=[]\n",
    "depth_list=[]\n",
    "trees_list=[]\n",
    "for no_trees in number_of_trees:\n",
    "    for depth in max_depth:\n",
    "        clfier_1=RandomForestClassifier(max_depth=depth,n_estimators=no_trees, random_state=42)\n",
    "        scores=cross_val_score(clfier_1, X_train_data, np_q4.ravel(y_train_target),cv=10)\n",
    "        print(\"Mean Accuracy: \", scores.mean(),\"at depth= \",depth,\"and when no of trees= \",no_trees)\n",
    "        mean_accuracy.append(scores.mean())\n",
    "        depth_list.append(depth)\n",
    "        trees_list.append(no_trees)"
   ]
  },
  {
   "cell_type": "markdown",
   "metadata": {},
   "source": [
    "<h3> Displayng the dataframe</h3>"
   ]
  },
  {
   "cell_type": "code",
   "execution_count": 5,
   "metadata": {},
   "outputs": [
    {
     "name": "stdout",
     "output_type": "stream",
     "text": [
      "    number_of_trees  max_depth  mean_accuracy\n",
      "0                 5        3.0       0.941667\n",
      "1                 5        5.0       0.941667\n",
      "2                 5       10.0       0.941667\n",
      "3                 5        NaN       0.941667\n",
      "4                10        3.0       0.941667\n",
      "5                10        5.0       0.925000\n",
      "6                10       10.0       0.916667\n",
      "7                10        NaN       0.916667\n",
      "8                50        3.0       0.950000\n",
      "9                50        5.0       0.933333\n",
      "10               50       10.0       0.933333\n",
      "11               50        NaN       0.933333\n",
      "12              150        3.0       0.941667\n",
      "13              150        5.0       0.925000\n",
      "14              150       10.0       0.925000\n",
      "15              150        NaN       0.925000\n",
      "16              200        3.0       0.941667\n",
      "17              200        5.0       0.933333\n",
      "18              200       10.0       0.933333\n",
      "19              200        NaN       0.933333\n"
     ]
    }
   ],
   "source": [
    "#CONVERTING THE OUTPUT INTO DATAFRAME \n",
    "heat_df=pd.DataFrame(data=list(zip(trees_list,depth_list,mean_accuracy)),columns=['number_of_trees','max_depth','mean_accuracy'])\n",
    "print(heat_df)"
   ]
  },
  {
   "cell_type": "code",
   "execution_count": 6,
   "metadata": {},
   "outputs": [
    {
     "name": "stdout",
     "output_type": "stream",
     "text": [
      "Best depth and no of trees with highest accuracy at accuracy=:  0.9499999999999998 is at depth=:  3 and no of trees=: 50\n"
     ]
    }
   ],
   "source": [
    "# FINDING THE BEST ACCURACY \n",
    "best_accuracy=max(mean_accuracy)    \n",
    "best_depth_with_highest_accuracy=depth_list[mean_accuracy.index(best_accuracy)]\n",
    "best_no_of_trees=trees_list[mean_accuracy.index(best_accuracy)]\n",
    "\n",
    "print(\"Best depth and no of trees with highest accuracy at accuracy=: \",best_accuracy,\"is at depth=: \",best_depth_with_highest_accuracy,\"and no of trees=:\",best_no_of_trees)\n"
   ]
  },
  {
   "cell_type": "markdown",
   "metadata": {},
   "source": [
    "<h2>Best accuracy is found 95% at depth=3 and number of estimators=50</h2>"
   ]
  },
  {
   "cell_type": "code",
   "execution_count": 7,
   "metadata": {},
   "outputs": [
    {
     "data": {
      "text/plain": [
       "<matplotlib.axes._subplots.AxesSubplot at 0x20453b619c8>"
      ]
     },
     "execution_count": 7,
     "metadata": {},
     "output_type": "execute_result"
    },
    {
     "data": {
      "image/png": "[encoded data removed]",
      "text/plain": [
       "<Figure size 432x288 with 2 Axes>"
      ]
     },
     "metadata": {
      "needs_background": "light"
     },
     "output_type": "display_data"
    }
   ],
   "source": [
    "#PLOTTING THE HEATMAP\n",
    "heat_df=heat_df.pivot(index='max_depth',columns='number_of_trees',values='mean_accuracy')\n",
    "sbs.heatmap(data=heat_df, annot=True)\n"
   ]
  },
  {
   "cell_type": "markdown",
   "metadata": {},
   "source": [
    "<h2> OBSERVATIONS AND ANALYSIS</h2>\n",
    "<h3>1.Depth= 3 and estimators= 50 which is the optimum value for the classifier and gives us the accuracy of 95%.</h3>\n",
    "<h3>2.As the number of trees increases to 50, our model uses more random samples to build trees which equalizes the bias created (if any) by voting, hence no overfitting.</h3>\n",
    "<h3>3.When the depth is 3, it is using best features to generalize the data (petal width and petal length).</h3>\n",
    "<h3>4.There is no overfitting in random forests because it equalizes all the biases created as it follows the procedure of voting from multiple decision trees for selecting the final output class.</h3>"
   ]
  }
 ],
 "metadata": {
  "kernelspec": {
   "display_name": "Python 3",
   "language": "python",
   "name": "python3"
  },
  "language_info": {
   "codemirror_mode": {
    "name": "ipython",
    "version": 3
   },
   "file_extension": ".py",
   "mimetype": "text/x-python",
   "name": "python",
   "nbconvert_exporter": "python",
   "pygments_lexer": "ipython3",
   "version": "3.7.4"
  }
 },
 "nbformat": 4,
 "nbformat_minor": 2
}
