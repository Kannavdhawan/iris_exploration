{
 "cells": [
  {
   "cell_type": "markdown",
   "metadata": {},
   "source": [
    "<h1>GRADIENT BOOSTING</h1>"
   ]
  },
  {
   "cell_type": "code",
   "execution_count": 1,
   "metadata": {},
   "outputs": [],
   "source": [
    "#importing the required libraries\n",
    "import numpy as np\n",
    "import pandas as pd\n",
    "import matplotlib as plotclf\n",
    "from sklearn import datasets\n",
    "from sklearn.model_selection import train_test_split\n",
    "from sklearn.model_selection import cross_val_score\n",
    "import seaborn as sbs\n",
    "from sklearn.ensemble import GradientBoostingClassifier"
   ]
  },
  {
   "cell_type": "code",
   "execution_count": 2,
   "metadata": {},
   "outputs": [],
   "source": [
    "#loading dataset and splitting into train and test data. \n",
    "iris_dataset= datasets.load_iris()\n",
    "X_data,y_target=iris_dataset.data,iris_dataset.target\n",
    "mean_accuracy=[]\n",
    "X_train_data, X_test_data, y_train_target, y_test_target = train_test_split(X_data, y_target, train_size=0.8, random_state=42)\n"
   ]
  },
  {
   "cell_type": "code",
   "execution_count": 3,
   "metadata": {},
   "outputs": [
    {
     "name": "stdout",
     "output_type": "stream",
     "text": [
      "Mean Accuracy:   0.9333333333333332 at number of estimators=  5\n",
      "Mean Accuracy:   0.9333333333333332 at number of estimators=  10\n",
      "Mean Accuracy:   0.9249999999999998 at number of estimators=  50\n",
      "Mean Accuracy:   0.9249999999999998 at number of estimators=  150\n",
      "Mean Accuracy:   0.9249999999999998 at number of estimators=  200\n"
     ]
    }
   ],
   "source": [
    "#Fitting the classifier and using cross val score to perform multiple splits.\n",
    "number_of_estimators=[5,10,50,150,200]\n",
    "for i in number_of_estimators:\n",
    "    scores=[]\n",
    "    gb_clfier_1 = GradientBoostingClassifier(n_estimators=i,random_state=42)  \n",
    "    scores=cross_val_score(gb_clfier_1, X_train_data, y_train_target, cv=10)\n",
    "# dividing the training data of 80% into ratio of 90:10 for multiple splits using one fold for testing at a time.\n",
    "    print(\"Mean Accuracy:  \", scores.mean(),\"at number of estimators= \",i)\n",
    "    mean_accuracy.append(scores.mean())"
   ]
  },
  {
   "cell_type": "markdown",
   "metadata": {},
   "source": [
    "<h3>Here, we have computed Mean accuracies at different number of estimators.</h3>"
   ]
  },
  {
   "cell_type": "code",
   "execution_count": 4,
   "metadata": {},
   "outputs": [
    {
     "name": "stdout",
     "output_type": "stream",
     "text": [
      "Best values for no of estimators with highest accuracy at: accuracy= 0.9333333333333332 is/are [5, 10]\n"
     ]
    }
   ],
   "source": [
    "#finding the best value for number of estimators for maxmum accuracy at validation set \n",
    "best_accuracy=max(mean_accuracy)\n",
    "best_no_of_estimators_with_highest_accuracy=[]\n",
    "itrtr=0\n",
    "for k in mean_accuracy:\n",
    "    if k==best_accuracy:\n",
    "        best_no_of_estimators_with_highest_accuracy.append(number_of_estimators[itrtr])\n",
    "    itrtr+=1\n",
    "print(\"Best values for no of estimators with highest accuracy at: accuracy=\",best_accuracy,\"is/are\",best_no_of_estimators_with_highest_accuracy)\n"
   ]
  },
  {
   "cell_type": "markdown",
   "metadata": {},
   "source": [
    "<h3>Best Accuracy for validation set is found at [5,10] which is 93.33%</h3>"
   ]
  },
  {
   "cell_type": "code",
   "execution_count": 5,
   "metadata": {},
   "outputs": [
    {
     "name": "stdout",
     "output_type": "stream",
     "text": [
      "\n",
      "\n",
      " Mean accuracy and no of estimators :\n",
      "\n",
      "    No of Estimators  Mean accuracy\n",
      "0                 5       0.933333\n",
      "1                10       0.933333\n",
      "2                50       0.925000\n",
      "3               150       0.925000\n",
      "4               200       0.925000\n"
     ]
    },
    {
     "data": {
      "text/plain": [
       "<matplotlib.axes._subplots.AxesSubplot at 0x1b8762fe908>"
      ]
     },
     "execution_count": 5,
     "metadata": {},
     "output_type": "execute_result"
    },
    {
     "data": {
      "image/png": "[encoded data removed]",
      "text/plain": [
       "<Figure size 432x288 with 1 Axes>"
      ]
     },
     "metadata": {
      "needs_background": "light"
     },
     "output_type": "display_data"
    }
   ],
   "source": [
    "#converting number of estimator list and mean accuracy list into dataframe for plotting in swarmplot.\n",
    "estimators_df=pd.DataFrame(number_of_estimators)\n",
    "mean_accuracy_df=pd.DataFrame(mean_accuracy)\n",
    "join = pd.concat([estimators_df, mean_accuracy_df], axis=1)\n",
    "join.columns=[ 'No of Estimators','Mean accuracy']\n",
    "print('\\n\\n Mean accuracy and no of estimators :\\n\\n', join)\n",
    "\n",
    "sbs.swarmplot(x='No of Estimators',y='Mean accuracy', data=join)\n"
   ]
  },
  {
   "cell_type": "markdown",
   "metadata": {},
   "source": [
    "<h2>OBSERVATIONS AND ANALYSIS</h2>\n",
    "<h3>1.There is no overfitting and number of estimators=5 is enough to clear the errors made by the predecessor models.</h3>\n",
    "<h3>2.Number of estimators= [5] are good to learn the patterns about the data for our model and leaving no chance to increase the time complexity to a higher level. </h3>\n",
    "<h3>3. If we choose n_estimators=10, it will gradually increase the time complexity for training the model.</h3>\n",
    "<h3> NOTE: IF WE CHOOSE n_estimators=10, IT WILL NOT CAUSE OVERFITTING BECAUSE GTB DOESN'T RESULT IN MUCH OVERFITTING. S0, IT WILL IMPROVE THE PERFORMANCE AND ACCURACY WITH AN INCREASE IN TIME COMPLEXITY AS WELL.</h3>"
   ]
  },
  {
   "cell_type": "code",
   "execution_count": null,
   "metadata": {},
   "outputs": [],
   "source": []
  }
 ],
 "metadata": {
  "kernelspec": {
   "display_name": "Python 3",
   "language": "python",
   "name": "python3"
  },
  "language_info": {
   "codemirror_mode": {
    "name": "ipython",
    "version": 3
   },
   "file_extension": ".py",
   "mimetype": "text/x-python",
   "name": "python",
   "nbconvert_exporter": "python",
   "pygments_lexer": "ipython3",
   "version": "3.7.4"
  }
 },
 "nbformat": 4,
 "nbformat_minor": 2
}
