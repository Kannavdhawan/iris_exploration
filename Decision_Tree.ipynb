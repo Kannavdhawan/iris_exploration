{
 "cells": [
  {
   "cell_type": "markdown",
   "metadata": {},
   "source": [
    "<h1>                                           DECISION TREE</h1>"
   ]
  },
  {
   "cell_type": "code",
   "execution_count": 1,
   "metadata": {},
   "outputs": [],
   "source": [
    "#importing the required libraries\n",
    "import matplotlib as plotclf\n",
    "from sklearn import datasets\n",
    "from sklearn.model_selection import train_test_split\n",
    "from sklearn.model_selection import cross_val_score\n",
    "import seaborn as sbs\n",
    "from sklearn import tree"
   ]
  },
  {
   "cell_type": "code",
   "execution_count": 2,
   "metadata": {},
   "outputs": [],
   "source": [
    "#splitting the dataset into train and test datasets\n",
    "iris= datasets.load_iris()\n",
    "X_data,y_target=iris.data,iris.target\n",
    "mean_accuracy=[]\n",
    "X_train_data, X_test_data, y_train_target, y_test_target = train_test_split(X_data, y_target, train_size=0.8, random_state=42)\n"
   ]
  },
  {
   "cell_type": "code",
   "execution_count": 3,
   "metadata": {},
   "outputs": [
    {
     "name": "stdout",
     "output_type": "stream",
     "text": [
      "Mean Accuracy:   0.9333333333333332 at depth=  3\n",
      "Mean Accuracy:   0.9166666666666666 at depth=  5\n",
      "Mean Accuracy:   0.9249999999999998 at depth=  10\n",
      "Mean Accuracy:   0.9249999999999998 at depth=  None\n"
     ]
    }
   ],
   "source": [
    "#splitting using cross val score.\n",
    "max_depth=[3, 5, 10,None]\n",
    "for i in max_depth:\n",
    "    scores=[]\n",
    "    clfier_1=tree.DecisionTreeClassifier(max_depth=i,random_state=42)\n",
    "    scores=cross_val_score(clfier_1, X_train_data, y_train_target, cv=10)\n",
    "    #splitting training data into train val data in ratio of 90:10.\n",
    "    print(\"Mean Accuracy:  \", scores.mean(),\"at depth= \",i)\n",
    "    mean_accuracy.append(scores.mean())   "
   ]
  },
  {
   "cell_type": "code",
   "execution_count": 4,
   "metadata": {},
   "outputs": [
    {
     "name": "stdout",
     "output_type": "stream",
     "text": [
      "Best values for max depth with highest accuracy at: accuracy= 0.9333333333333332 is/are [3]\n"
     ]
    }
   ],
   "source": [
    "#finding the best value of max depth \n",
    "best_accuracy=max(mean_accuracy)\n",
    "best_max_depth_with_highest_accuracy=[]\n",
    "itrtr=0\n",
    "for k in mean_accuracy:    \n",
    "    if k==best_accuracy:\n",
    "        best_max_depth_with_highest_accuracy.append(max_depth[itrtr])\n",
    "    itrtr+=1\n",
    "print(\"Best values for max depth with highest accuracy at: accuracy=\",best_accuracy,\"is/are\",best_max_depth_with_highest_accuracy)"
   ]
  },
  {
   "cell_type": "code",
   "execution_count": 5,
   "metadata": {},
   "outputs": [
    {
     "data": {
      "text/plain": [
       "<matplotlib.legend.Legend at 0x152ca305788>"
      ]
     },
     "execution_count": 5,
     "metadata": {},
     "output_type": "execute_result"
    },
    {
     "data": {
      "image/png": "[encoded data removed]",
      "text/plain": [
       "<Figure size 432x288 with 1 Axes>"
      ]
     },
     "metadata": {
      "needs_background": "light"
     },
     "output_type": "display_data"
    }
   ],
   "source": [
    "#plotting the graph of max depth vs accuracy.\n",
    "plotclf.pyplot.scatter([3, 5, 10,0],mean_accuracy)\n",
    "plotclf.pyplot.xlabel('Max Depth')\n",
    "plotclf.pyplot.ylabel('Mean Accuracy')\n",
    "plotclf.pyplot.title('Max depth vs Accuracy of Decision tree classifier')\n",
    "plotclf.pyplot.legend(loc='best', title='None relabeling',labels=['None-->0'])"
   ]
  },
  {
   "cell_type": "markdown",
   "metadata": {},
   "source": [
    "<h2> None --> 0 in graph for max depth. </h2>\n",
    "\n",
    "\n",
    "<h2>OBSERVATIONS AND ANALYSIS</h2>\n",
    "<h3>1.DEPTH= 3 is giving us the highest accuracy which is 93.33% because it is taking two features (Petal length and petal width) to generalize the data which are separating all the three classes giving highest accuracy which can be seen using graphviz in visual studio. </h3> \n",
    "<h3>2.There is no over-fitting and no under-fitting at this level of depth because these two features are enough for DT to learn the patterns and generalize well on test data.</h3>\n",
    "<h3>3.When the depth is too low (say 1,2), classifier misses to learn the patterns because of less exposure to different decision functions covering different features, so in the end it also misclassifies the data points for both the training and the testing data as a result of under-fitting.</h3>\n",
    "<h3>4. when the depth is too high, then our model will pay more attention to the training data resulting in over-fitting.</h3>\n"
   ]
  },
  {
   "cell_type": "code",
   "execution_count": null,
   "metadata": {},
   "outputs": [],
   "source": []
  }
 ],
 "metadata": {
  "kernelspec": {
   "display_name": "Python 3",
   "language": "python",
   "name": "python3"
  },
  "language_info": {
   "codemirror_mode": {
    "name": "ipython",
    "version": 3
   },
   "file_extension": ".py",
   "mimetype": "text/x-python",
   "name": "python",
   "nbconvert_exporter": "python",
   "pygments_lexer": "ipython3",
   "version": "3.7.4"
  }
 },
 "nbformat": 4,
 "nbformat_minor": 2
}
