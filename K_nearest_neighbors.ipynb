{
  "nbformat": 4,
  "nbformat_minor": 0,
  "metadata": {
    "kernelspec": {
      "display_name": "Python 3",
      "language": "python",
      "name": "python3"
    },
    "language_info": {
      "codemirror_mode": {
        "name": "ipython",
        "version": 3
      },
      "file_extension": ".py",
      "mimetype": "text/x-python",
      "name": "python",
      "nbconvert_exporter": "python",
      "pygments_lexer": "ipython3",
      "version": "3.7.4"
    },
    "colab": {
      "name": "K_nearest_neighbors.ipynb",
      "provenance": []
    }
  },
  "cells": [
    {
      "cell_type": "code",
      "metadata": {
        "id": "WG3tIP4sddY2",
        "colab_type": "code",
        "colab": {}
      },
      "source": [
        "#importing the required libraries\n",
        "import matplotlib.pyplot as plt_q2\n",
        "from sklearn.datasets import load_iris\n",
        "from sklearn.model_selection import train_test_split\n",
        "from sklearn.neighbors import KNeighborsClassifier\n",
        "from sklearn import metrics"
      ],
      "execution_count": 1,
      "outputs": []
    },
    {
      "cell_type": "code",
      "metadata": {
        "id": "Cfdjqo-8ddY9",
        "colab_type": "code",
        "colab": {}
      },
      "source": [
        "#splitting the dataset into train val test.\n",
        "iris_q2=load_iris()\n",
        "data_array=iris_q2.data\n",
        "target_array=iris_q2.target\n",
        "X_train_data,X_test_data,y_train_target,y_test_target=train_test_split(data_array,target_array,test_size=0.20,train_size=0.80,random_state=42)\n",
        "X_train1_data, X_val_data, y_train1_target, y_val_target=train_test_split(X_train_data, y_train_target, test_size=0.25,random_state=42)\n"
      ],
      "execution_count": 2,
      "outputs": []
    },
    {
      "cell_type": "code",
      "metadata": {
        "id": "ZwaX3lgiddZD",
        "colab_type": "code",
        "colab": {
          "base_uri": "https://localhost:8080/",
          "height": 83
        },
        "outputId": "603c16e0-7a4c-4c99-d650-e4fc69306f8d"
      },
      "source": [
        "#training the classifier and taking neighbors =5 to predict the labels for test data.\n",
        "knn_q2 = KNeighborsClassifier(n_neighbors=5)\n",
        "\n",
        "knn_q2.fit(X_train1_data, y_train1_target)\n",
        "#predicting the x_test_data\n",
        "y_pred_target = knn_q2.predict(X_test_data)\n",
        "#comparing the labels to find accuracy of our model on test data.\n",
        "score=metrics.accuracy_score(y_test_target, y_pred_target)\n",
        "print(\"initial test accuracy at test dataset=:: \",score)\n",
        "print(\"\\n\\n\")"
      ],
      "execution_count": 3,
      "outputs": [
        {
          "output_type": "stream",
          "text": [
            "initial test accuracy at test dataset=::  0.9666666666666667\n",
            "\n",
            "\n",
            "\n"
          ],
          "name": "stdout"
        }
      ]
    },
    {
      "cell_type": "markdown",
      "metadata": {
        "id": "jTaW-b7IddZJ",
        "colab_type": "text"
      },
      "source": [
        "<h4>On training the model and testing the test data initially leaving the hyperparameters as default, I have found that the accuracy is about 0.9666666666666667.</h4>"
      ]
    },
    {
      "cell_type": "code",
      "metadata": {
        "id": "VHsTEpVHddZK",
        "colab_type": "code",
        "colab": {
          "base_uri": "https://localhost:8080/",
          "height": 200
        },
        "outputId": "597b32d5-89df-4802-d411-6edd63ed8f33"
      },
      "source": [
        "#finding the best k by testing on validation set.\n",
        "scores_val = []\n",
        "print(\"validation accuracy : \\n\\n\")\n",
        "k_in_val=[1,5,10,15,20,25,30,35]\n",
        "for k in k_in_val:\n",
        "    knn_q2= KNeighborsClassifier(n_neighbors=k)\n",
        "    knn_q2.fit(X_train1_data, y_train1_target)\n",
        "#predicting validation data\n",
        "    y_pred1_target= knn_q2.predict(X_val_data)\n",
        "    scores_val.append(metrics.accuracy_score(y_val_target, y_pred1_target))\n",
        "    print(\"Accuracy at k= \",k,\" for validation set is \",metrics.accuracy_score(y_val_target, y_pred1_target))"
      ],
      "execution_count": 4,
      "outputs": [
        {
          "output_type": "stream",
          "text": [
            "validation accuracy : \n",
            "\n",
            "\n",
            "Accuracy at k=  1  for validation set is  0.9\n",
            "Accuracy at k=  5  for validation set is  0.9333333333333333\n",
            "Accuracy at k=  10  for validation set is  0.9333333333333333\n",
            "Accuracy at k=  15  for validation set is  0.9333333333333333\n",
            "Accuracy at k=  20  for validation set is  0.9333333333333333\n",
            "Accuracy at k=  25  for validation set is  0.9666666666666667\n",
            "Accuracy at k=  30  for validation set is  0.9666666666666667\n",
            "Accuracy at k=  35  for validation set is  0.9333333333333333\n"
          ],
          "name": "stdout"
        }
      ]
    },
    {
      "cell_type": "markdown",
      "metadata": {
        "id": "u_8Pcw6LddZO",
        "colab_type": "text"
      },
      "source": [
        ""
      ]
    },
    {
      "cell_type": "code",
      "metadata": {
        "id": "gj-JWxJdddZP",
        "colab_type": "code",
        "colab": {
          "base_uri": "https://localhost:8080/",
          "height": 294
        },
        "outputId": "7f68ecbc-0883-4db7-9ae8-ada0be661a7a"
      },
      "source": [
        "#plotting the graph for validation accuracy and k values.\n",
        "plt_q2.plot(k_in_val,scores_val)\n",
        "plt_q2.xticks(ticks=[5,10,15,20,25,30,35])\n",
        "plt_q2.title(\"K-values and validaton accuracies comparison\")\n",
        "plt_q2.xlabel(\"k-values\")\n",
        "plt_q2.ylabel(\"Validation Accuracy\")\n",
        "plt_q2.grid(linewidth=0.5,color='r')\n",
        "plt_q2.show()"
      ],
      "execution_count": 5,
      "outputs": [
        {
          "output_type": "display_data",
          "data": {
            "image/png": "[encoded data removed]",
            "text/plain": [
              "<Figure size 432x288 with 1 Axes>"
            ]
          },
          "metadata": {
            "tags": [],
            "needs_background": "light"
          }
        }
      ]
    },
    {
      "cell_type": "code",
      "metadata": {
        "id": "o0iUGcSmddZW",
        "colab_type": "code",
        "colab": {
          "base_uri": "https://localhost:8080/",
          "height": 33
        },
        "outputId": "29adac19-00c8-4de5-b59a-5f227fc76045"
      },
      "source": [
        "# finding the best value of k\n",
        "\n",
        "best_k=k_in_val[scores_val.index((max(scores_val)))]\n",
        "print(\"best accuracy with validtaion set is ::\",max(scores_val),\"at k=\",best_k)\n"
      ],
      "execution_count": 6,
      "outputs": [
        {
          "output_type": "stream",
          "text": [
            "best accuracy with validtaion set is :: 0.9666666666666667 at k= 25\n"
          ],
          "name": "stdout"
        }
      ]
    },
    {
      "cell_type": "markdown",
      "metadata": {
        "id": "0BOn10lRddZa",
        "colab_type": "text"
      },
      "source": [
        "<h3>Thus, in order to find the best hyperparameters(here n_neighbors), I have tested the validation dataset passing different k values and found out that we get highest accuracy at two different values of k i.e at k=25,30.</h3>\n",
        "<h3>I have selected k=25 to tune the final model to predict the test set as it is incorporating enough patterns to make the classifier learn. if we select a higher value of k, it increases the computational complexity and if we select a value which is too low, it will result in overfitting.</h3>"
      ]
    },
    {
      "cell_type": "code",
      "metadata": {
        "id": "2RvfUP3HddZb",
        "colab_type": "code",
        "colab": {
          "base_uri": "https://localhost:8080/",
          "height": 33
        },
        "outputId": "38f74808-d97f-4af9-cff6-8eda35d73e7c"
      },
      "source": [
        "# using the best k found in validation to find the test accuracy\n",
        "knn_q2 = KNeighborsClassifier(n_neighbors=25)\n",
        "knn_q2.fit(X_train1_data, y_train1_target)\n",
        "y_pred2_target = knn_q2.predict(X_test_data)\n",
        "scores_test1=metrics.accuracy_score(y_test_target, y_pred2_target)\n",
        "print(\"Final test accuracy at best value of k= \",best_k,\" is \",scores_test1)\n"
      ],
      "execution_count": 7,
      "outputs": [
        {
          "output_type": "stream",
          "text": [
            "Final test accuracy at best value of k=  25  is  1.0\n"
          ],
          "name": "stdout"
        }
      ]
    },
    {
      "cell_type": "markdown",
      "metadata": {
        "id": "SEFRbN6MddZg",
        "colab_type": "text"
      },
      "source": [
        "\n",
        "<h3>However, I also choose k as 25 because it is an odd number so that there is no clash while finding the nearest classes. i.e if I choose k=30, there can be 15 nearest samples having class Setosa and 15 as class Virginica</h3>\n"
      ]
    }
  ]
}