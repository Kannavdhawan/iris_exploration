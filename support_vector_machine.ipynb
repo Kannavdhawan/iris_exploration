{
 "cells": [
  {
   "cell_type": "code",
   "execution_count": 1,
   "metadata": {},
   "outputs": [],
   "source": [
    "#importing the required libraries\n",
    "import matplotlib as plt\n",
    "from sklearn import svm\n",
    "from sklearn import datasets\n",
    "from sklearn.model_selection import train_test_split\n",
    "from sklearn.model_selection import cross_val_score\n",
    "import seaborn as sbs_q3\n",
    "import pandas as pd"
   ]
  },
  {
   "cell_type": "code",
   "execution_count": 2,
   "metadata": {},
   "outputs": [],
   "source": [
    "#splitting the data into train and test data \n",
    "iris= datasets.load_iris()\n",
    "X_data,y_target=iris.data,iris.target\n",
    "X_train_data, X_test_data, y_train_target, y_test_target = train_test_split(X_data, y_target, train_size=0.8, random_state=42)\n"
   ]
  },
  {
   "cell_type": "code",
   "execution_count": 3,
   "metadata": {},
   "outputs": [
    {
     "name": "stdout",
     "output_type": "stream",
     "text": [
      "\t\tMEAN ACCURACY AT DIFFERENT C-VALUES\n",
      "\n",
      "\n",
      "Mean Accuracy:   0.9583333333333334 at c=  0.1\n",
      "Mean Accuracy:   0.9583333333333333 at c=  0.5\n",
      "Mean Accuracy:   0.9583333333333333 at c=  1\n",
      "Mean Accuracy:   0.9583333333333334 at c=  2\n",
      "Mean Accuracy:   0.9583333333333334 at c=  5\n",
      "Mean Accuracy:   0.95 at c=  10\n",
      "Mean Accuracy:   0.9333333333333332 at c=  20\n",
      "Mean Accuracy:   0.9333333333333332 at c=  50\n"
     ]
    }
   ],
   "source": [
    "# finding mean accuracy at different values of c using cross val score\n",
    "c_values= [0.1, 0.5, 1, 2, 5, 10, 20, 50]\n",
    "mean_accuracy=[]\n",
    "print(\"\\t\\tMEAN ACCURACY AT DIFFERENT C-VALUES\\n\\n\")\n",
    "for i in c_values:\n",
    "    scores=[]\n",
    "    clfier_1 = svm.SVC(kernel='linear',C=i)\n",
    "    scores=cross_val_score(clfier_1, X_train_data, y_train_target, cv=10) \n",
    "# dividing the training data of 80% into ratio of 90:10 for multiple splits using one fold for testing at a time.\n",
    "    print(\"Mean Accuracy:  \",scores.mean(),\"at c= \",i)\n",
    "    mean_accuracy.append(scores.mean())\n",
    "    "
   ]
  },
  {
   "cell_type": "code",
   "execution_count": 4,
   "metadata": {},
   "outputs": [
    {
     "name": "stdout",
     "output_type": "stream",
     "text": [
      "\n",
      "\n",
      "Best values for C with highest accuracy at:  0.9583333333333334 are [0.1, 2, 5]\n"
     ]
    }
   ],
   "source": [
    "# finding value of c giving highest accuracy \n",
    "best_accuracy=max(mean_accuracy)\n",
    "best_c_with_highest_accuracy=[]\n",
    "itrtr=0\n",
    "for k in mean_accuracy:\n",
    "    if k==best_accuracy:\n",
    "        best_c_with_highest_accuracy.append(c_values[itrtr])\n",
    "    itrtr+=1\n",
    "print(\"\\n\\nBest values for C with highest accuracy at: \",best_accuracy,\"are\",best_c_with_highest_accuracy)\n"
   ]
  },
  {
   "cell_type": "markdown",
   "metadata": {},
   "source": [
    "<h3>We find the best values of c for the validation set giving the highest accuracy of 95.834% are [0.1,2,5]</h3>\n"
   ]
  },
  {
   "cell_type": "code",
   "execution_count": 5,
   "metadata": {},
   "outputs": [
    {
     "name": "stdout",
     "output_type": "stream",
     "text": [
      "\n",
      "\n",
      " Mean accuracy and c-values dataframe is:\n",
      "\n",
      "    C values  Mean accuracy\n",
      "0       0.1       0.958333\n",
      "1       0.5       0.958333\n",
      "2       1.0       0.958333\n",
      "3       2.0       0.958333\n",
      "4       5.0       0.958333\n",
      "5      10.0       0.950000\n",
      "6      20.0       0.933333\n",
      "7      50.0       0.933333\n"
     ]
    }
   ],
   "source": [
    "#converting and printing the dataframe of accuracy vs c\n",
    "c_df=pd.DataFrame(c_values)\n",
    "mean_accuracy_df=pd.DataFrame(mean_accuracy)\n",
    "join = pd.concat([c_df, mean_accuracy_df], axis=1)\n",
    "join.columns=[ 'C values','Mean accuracy']\n",
    "print('\\n\\n Mean accuracy and c-values dataframe is:\\n\\n', join)"
   ]
  },
  {
   "cell_type": "markdown",
   "metadata": {},
   "source": [
    "<h3>Here we are converting and displaying the dataframe </h3>"
   ]
  },
  {
   "cell_type": "code",
   "execution_count": 6,
   "metadata": {},
   "outputs": [
    {
     "data": {
      "text/plain": [
       "Text(0.5, 1.0, 'Accuracy vs C-Values')"
      ]
     },
     "execution_count": 6,
     "metadata": {},
     "output_type": "execute_result"
    },
    {
     "data": {
      "image/png": "[encoded data removed]",
      "text/plain": [
       "<Figure size 432x288 with 1 Axes>"
      ]
     },
     "metadata": {
      "needs_background": "light"
     },
     "output_type": "display_data"
    }
   ],
   "source": [
    "#plotting the graph \n",
    "sbs_q3.swarmplot( x='C values',y='Mean accuracy', data=join)\n",
    "plt.pyplot.title(\"Accuracy vs C-Values\")"
   ]
  },
  {
   "cell_type": "code",
   "execution_count": 7,
   "metadata": {},
   "outputs": [
    {
     "name": "stdout",
     "output_type": "stream",
     "text": [
      "\n",
      "\n",
      "\t\tTEST DATA accuracy at Best C\n",
      "\n",
      "\n",
      "Accuracy for c=   0.1 for test data is :  1.0\n",
      "Accuracy for c=   2 for test data is :  1.0\n"
     ]
    }
   ],
   "source": [
    "#finding accuracy on test data for best values of c.\n",
    "print(\"\\n\\n\\t\\tTEST DATA accuracy at Best C\\n\\n\")\n",
    "for values in [0.1,2]:\n",
    "    clfier_2 = svm.SVC(kernel='linear', C=values).fit(X_train_data,y_train_target)\n",
    "    print(\"Accuracy for c=  \",values,\"for test data is : \",clfier_2.score(X_test_data, y_test_target))\n",
    "    "
   ]
  },
  {
   "cell_type": "markdown",
   "metadata": {},
   "source": [
    "<h3>From the 3 values of c giving highest accuracy, I have choosen c=2 as the perfect value </h3>\n",
    "\n",
    "<h3>1. when the value of C= 0.1, the margins will be high but there will be some sort of misclassification for training data which may not be reflected in predicting the test data and this may also give high accuracy for test data which can be seen when passed for test data. Thus, it misclassifies the linear training data too.</h3>\n",
    "\n",
    "<h3>2. But when the value of c=2, it doesn't misclassify that much for the training data and gives a descent accuracy for both training and testing data.</h3>\n",
    "\n",
    "<h3>3. A low c value is best if it misclassifies 1 point rather than a high C misclassifying more points with low margins.</h3>\n"
   ]
  }
 ],
 "metadata": {
  "kernelspec": {
   "display_name": "Python 3",
   "language": "python",
   "name": "python3"
  },
  "language_info": {
   "codemirror_mode": {
    "name": "ipython",
    "version": 3
   },
   "file_extension": ".py",
   "mimetype": "text/x-python",
   "name": "python",
   "nbconvert_exporter": "python",
   "pygments_lexer": "ipython3",
   "version": "3.7.4"
  }
 },
 "nbformat": 4,
 "nbformat_minor": 2
}
